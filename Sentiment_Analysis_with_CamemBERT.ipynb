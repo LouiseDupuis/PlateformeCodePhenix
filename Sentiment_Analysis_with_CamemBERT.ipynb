{
  "nbformat": 4,
  "nbformat_minor": 0,
  "metadata": {
    "colab": {
      "name": "Sentiment Analysis with CamemBERT.ipynb",
      "provenance": [],
      "authorship_tag": "ABX9TyPuzJ1WTiqUgMWTILlTFCIH",
      "include_colab_link": true
    },
    "kernelspec": {
      "name": "python3",
      "display_name": "Python 3"
    },
    "widgets": {
      "application/vnd.jupyter.widget-state+json": {
        "d76b483fc3824cf29dac3dbbaff2eba6": {
          "model_module": "@jupyter-widgets/controls",
          "model_name": "HBoxModel",
          "state": {
            "_view_name": "HBoxView",
            "_dom_classes": [],
            "_model_name": "HBoxModel",
            "_view_module": "@jupyter-widgets/controls",
            "_model_module_version": "1.5.0",
            "_view_count": null,
            "_view_module_version": "1.5.0",
            "box_style": "",
            "layout": "IPY_MODEL_a9f612be03894ceb806f11c23dcb3e27",
            "_model_module": "@jupyter-widgets/controls",
            "children": [
              "IPY_MODEL_ff3ded86bd93458fb763a428a558fb9b",
              "IPY_MODEL_2bd13720544845aa9372ee5a645a3c13"
            ]
          }
        },
        "a9f612be03894ceb806f11c23dcb3e27": {
          "model_module": "@jupyter-widgets/base",
          "model_name": "LayoutModel",
          "state": {
            "_view_name": "LayoutView",
            "grid_template_rows": null,
            "right": null,
            "justify_content": null,
            "_view_module": "@jupyter-widgets/base",
            "overflow": null,
            "_model_module_version": "1.2.0",
            "_view_count": null,
            "flex_flow": null,
            "width": null,
            "min_width": null,
            "border": null,
            "align_items": null,
            "bottom": null,
            "_model_module": "@jupyter-widgets/base",
            "top": null,
            "grid_column": null,
            "overflow_y": null,
            "overflow_x": null,
            "grid_auto_flow": null,
            "grid_area": null,
            "grid_template_columns": null,
            "flex": null,
            "_model_name": "LayoutModel",
            "justify_items": null,
            "grid_row": null,
            "max_height": null,
            "align_content": null,
            "visibility": null,
            "align_self": null,
            "height": null,
            "min_height": null,
            "padding": null,
            "grid_auto_rows": null,
            "grid_gap": null,
            "max_width": null,
            "order": null,
            "_view_module_version": "1.2.0",
            "grid_template_areas": null,
            "object_position": null,
            "object_fit": null,
            "grid_auto_columns": null,
            "margin": null,
            "display": null,
            "left": null
          }
        },
        "ff3ded86bd93458fb763a428a558fb9b": {
          "model_module": "@jupyter-widgets/controls",
          "model_name": "FloatProgressModel",
          "state": {
            "_view_name": "ProgressView",
            "style": "IPY_MODEL_b85a684ebd0a43efb7e29fe8a09890c0",
            "_dom_classes": [],
            "description": "Downloading: 100%",
            "_model_name": "FloatProgressModel",
            "bar_style": "success",
            "max": 508,
            "_view_module": "@jupyter-widgets/controls",
            "_model_module_version": "1.5.0",
            "value": 508,
            "_view_count": null,
            "_view_module_version": "1.5.0",
            "orientation": "horizontal",
            "min": 0,
            "description_tooltip": null,
            "_model_module": "@jupyter-widgets/controls",
            "layout": "IPY_MODEL_8cd9d0633a394a3186c873fba544cb7b"
          }
        },
        "2bd13720544845aa9372ee5a645a3c13": {
          "model_module": "@jupyter-widgets/controls",
          "model_name": "HTMLModel",
          "state": {
            "_view_name": "HTMLView",
            "style": "IPY_MODEL_68f3d862bc5d416a89d3195577e48113",
            "_dom_classes": [],
            "description": "",
            "_model_name": "HTMLModel",
            "placeholder": "​",
            "_view_module": "@jupyter-widgets/controls",
            "_model_module_version": "1.5.0",
            "value": " 508/508 [00:00&lt;00:00, 1.04kB/s]",
            "_view_count": null,
            "_view_module_version": "1.5.0",
            "description_tooltip": null,
            "_model_module": "@jupyter-widgets/controls",
            "layout": "IPY_MODEL_4598700905c54379a80c2cb302296648"
          }
        },
        "b85a684ebd0a43efb7e29fe8a09890c0": {
          "model_module": "@jupyter-widgets/controls",
          "model_name": "ProgressStyleModel",
          "state": {
            "_view_name": "StyleView",
            "_model_name": "ProgressStyleModel",
            "description_width": "initial",
            "_view_module": "@jupyter-widgets/base",
            "_model_module_version": "1.5.0",
            "_view_count": null,
            "_view_module_version": "1.2.0",
            "bar_color": null,
            "_model_module": "@jupyter-widgets/controls"
          }
        },
        "8cd9d0633a394a3186c873fba544cb7b": {
          "model_module": "@jupyter-widgets/base",
          "model_name": "LayoutModel",
          "state": {
            "_view_name": "LayoutView",
            "grid_template_rows": null,
            "right": null,
            "justify_content": null,
            "_view_module": "@jupyter-widgets/base",
            "overflow": null,
            "_model_module_version": "1.2.0",
            "_view_count": null,
            "flex_flow": null,
            "width": null,
            "min_width": null,
            "border": null,
            "align_items": null,
            "bottom": null,
            "_model_module": "@jupyter-widgets/base",
            "top": null,
            "grid_column": null,
            "overflow_y": null,
            "overflow_x": null,
            "grid_auto_flow": null,
            "grid_area": null,
            "grid_template_columns": null,
            "flex": null,
            "_model_name": "LayoutModel",
            "justify_items": null,
            "grid_row": null,
            "max_height": null,
            "align_content": null,
            "visibility": null,
            "align_self": null,
            "height": null,
            "min_height": null,
            "padding": null,
            "grid_auto_rows": null,
            "grid_gap": null,
            "max_width": null,
            "order": null,
            "_view_module_version": "1.2.0",
            "grid_template_areas": null,
            "object_position": null,
            "object_fit": null,
            "grid_auto_columns": null,
            "margin": null,
            "display": null,
            "left": null
          }
        },
        "68f3d862bc5d416a89d3195577e48113": {
          "model_module": "@jupyter-widgets/controls",
          "model_name": "DescriptionStyleModel",
          "state": {
            "_view_name": "StyleView",
            "_model_name": "DescriptionStyleModel",
            "description_width": "",
            "_view_module": "@jupyter-widgets/base",
            "_model_module_version": "1.5.0",
            "_view_count": null,
            "_view_module_version": "1.2.0",
            "_model_module": "@jupyter-widgets/controls"
          }
        },
        "4598700905c54379a80c2cb302296648": {
          "model_module": "@jupyter-widgets/base",
          "model_name": "LayoutModel",
          "state": {
            "_view_name": "LayoutView",
            "grid_template_rows": null,
            "right": null,
            "justify_content": null,
            "_view_module": "@jupyter-widgets/base",
            "overflow": null,
            "_model_module_version": "1.2.0",
            "_view_count": null,
            "flex_flow": null,
            "width": null,
            "min_width": null,
            "border": null,
            "align_items": null,
            "bottom": null,
            "_model_module": "@jupyter-widgets/base",
            "top": null,
            "grid_column": null,
            "overflow_y": null,
            "overflow_x": null,
            "grid_auto_flow": null,
            "grid_area": null,
            "grid_template_columns": null,
            "flex": null,
            "_model_name": "LayoutModel",
            "justify_items": null,
            "grid_row": null,
            "max_height": null,
            "align_content": null,
            "visibility": null,
            "align_self": null,
            "height": null,
            "min_height": null,
            "padding": null,
            "grid_auto_rows": null,
            "grid_gap": null,
            "max_width": null,
            "order": null,
            "_view_module_version": "1.2.0",
            "grid_template_areas": null,
            "object_position": null,
            "object_fit": null,
            "grid_auto_columns": null,
            "margin": null,
            "display": null,
            "left": null
          }
        },
        "45f14eac244945c39f2c899400c86ee6": {
          "model_module": "@jupyter-widgets/controls",
          "model_name": "HBoxModel",
          "state": {
            "_view_name": "HBoxView",
            "_dom_classes": [],
            "_model_name": "HBoxModel",
            "_view_module": "@jupyter-widgets/controls",
            "_model_module_version": "1.5.0",
            "_view_count": null,
            "_view_module_version": "1.5.0",
            "box_style": "",
            "layout": "IPY_MODEL_45452ea750e04a6cbbe0988db4f3b1f8",
            "_model_module": "@jupyter-widgets/controls",
            "children": [
              "IPY_MODEL_70b4549f27384e038d87e6baa52535d2",
              "IPY_MODEL_cb7b0a5a5c6346ff95618ca7f28be43f"
            ]
          }
        },
        "45452ea750e04a6cbbe0988db4f3b1f8": {
          "model_module": "@jupyter-widgets/base",
          "model_name": "LayoutModel",
          "state": {
            "_view_name": "LayoutView",
            "grid_template_rows": null,
            "right": null,
            "justify_content": null,
            "_view_module": "@jupyter-widgets/base",
            "overflow": null,
            "_model_module_version": "1.2.0",
            "_view_count": null,
            "flex_flow": null,
            "width": null,
            "min_width": null,
            "border": null,
            "align_items": null,
            "bottom": null,
            "_model_module": "@jupyter-widgets/base",
            "top": null,
            "grid_column": null,
            "overflow_y": null,
            "overflow_x": null,
            "grid_auto_flow": null,
            "grid_area": null,
            "grid_template_columns": null,
            "flex": null,
            "_model_name": "LayoutModel",
            "justify_items": null,
            "grid_row": null,
            "max_height": null,
            "align_content": null,
            "visibility": null,
            "align_self": null,
            "height": null,
            "min_height": null,
            "padding": null,
            "grid_auto_rows": null,
            "grid_gap": null,
            "max_width": null,
            "order": null,
            "_view_module_version": "1.2.0",
            "grid_template_areas": null,
            "object_position": null,
            "object_fit": null,
            "grid_auto_columns": null,
            "margin": null,
            "display": null,
            "left": null
          }
        },
        "70b4549f27384e038d87e6baa52535d2": {
          "model_module": "@jupyter-widgets/controls",
          "model_name": "FloatProgressModel",
          "state": {
            "_view_name": "ProgressView",
            "style": "IPY_MODEL_8c005d347ed6478fa67654c69b500e4a",
            "_dom_classes": [],
            "description": "Downloading: 100%",
            "_model_name": "FloatProgressModel",
            "bar_style": "success",
            "max": 445032417,
            "_view_module": "@jupyter-widgets/controls",
            "_model_module_version": "1.5.0",
            "value": 445032417,
            "_view_count": null,
            "_view_module_version": "1.5.0",
            "orientation": "horizontal",
            "min": 0,
            "description_tooltip": null,
            "_model_module": "@jupyter-widgets/controls",
            "layout": "IPY_MODEL_007b5069d24c478bb0eab5235c53b363"
          }
        },
        "cb7b0a5a5c6346ff95618ca7f28be43f": {
          "model_module": "@jupyter-widgets/controls",
          "model_name": "HTMLModel",
          "state": {
            "_view_name": "HTMLView",
            "style": "IPY_MODEL_bcab3076b220491b8fbc4f01b1e13d5e",
            "_dom_classes": [],
            "description": "",
            "_model_name": "HTMLModel",
            "placeholder": "​",
            "_view_module": "@jupyter-widgets/controls",
            "_model_module_version": "1.5.0",
            "value": " 445M/445M [00:06&lt;00:00, 64.6MB/s]",
            "_view_count": null,
            "_view_module_version": "1.5.0",
            "description_tooltip": null,
            "_model_module": "@jupyter-widgets/controls",
            "layout": "IPY_MODEL_49fd9feec0e8470dae4a0c11d2ac4381"
          }
        },
        "8c005d347ed6478fa67654c69b500e4a": {
          "model_module": "@jupyter-widgets/controls",
          "model_name": "ProgressStyleModel",
          "state": {
            "_view_name": "StyleView",
            "_model_name": "ProgressStyleModel",
            "description_width": "initial",
            "_view_module": "@jupyter-widgets/base",
            "_model_module_version": "1.5.0",
            "_view_count": null,
            "_view_module_version": "1.2.0",
            "bar_color": null,
            "_model_module": "@jupyter-widgets/controls"
          }
        },
        "007b5069d24c478bb0eab5235c53b363": {
          "model_module": "@jupyter-widgets/base",
          "model_name": "LayoutModel",
          "state": {
            "_view_name": "LayoutView",
            "grid_template_rows": null,
            "right": null,
            "justify_content": null,
            "_view_module": "@jupyter-widgets/base",
            "overflow": null,
            "_model_module_version": "1.2.0",
            "_view_count": null,
            "flex_flow": null,
            "width": null,
            "min_width": null,
            "border": null,
            "align_items": null,
            "bottom": null,
            "_model_module": "@jupyter-widgets/base",
            "top": null,
            "grid_column": null,
            "overflow_y": null,
            "overflow_x": null,
            "grid_auto_flow": null,
            "grid_area": null,
            "grid_template_columns": null,
            "flex": null,
            "_model_name": "LayoutModel",
            "justify_items": null,
            "grid_row": null,
            "max_height": null,
            "align_content": null,
            "visibility": null,
            "align_self": null,
            "height": null,
            "min_height": null,
            "padding": null,
            "grid_auto_rows": null,
            "grid_gap": null,
            "max_width": null,
            "order": null,
            "_view_module_version": "1.2.0",
            "grid_template_areas": null,
            "object_position": null,
            "object_fit": null,
            "grid_auto_columns": null,
            "margin": null,
            "display": null,
            "left": null
          }
        },
        "bcab3076b220491b8fbc4f01b1e13d5e": {
          "model_module": "@jupyter-widgets/controls",
          "model_name": "DescriptionStyleModel",
          "state": {
            "_view_name": "StyleView",
            "_model_name": "DescriptionStyleModel",
            "description_width": "",
            "_view_module": "@jupyter-widgets/base",
            "_model_module_version": "1.5.0",
            "_view_count": null,
            "_view_module_version": "1.2.0",
            "_model_module": "@jupyter-widgets/controls"
          }
        },
        "49fd9feec0e8470dae4a0c11d2ac4381": {
          "model_module": "@jupyter-widgets/base",
          "model_name": "LayoutModel",
          "state": {
            "_view_name": "LayoutView",
            "grid_template_rows": null,
            "right": null,
            "justify_content": null,
            "_view_module": "@jupyter-widgets/base",
            "overflow": null,
            "_model_module_version": "1.2.0",
            "_view_count": null,
            "flex_flow": null,
            "width": null,
            "min_width": null,
            "border": null,
            "align_items": null,
            "bottom": null,
            "_model_module": "@jupyter-widgets/base",
            "top": null,
            "grid_column": null,
            "overflow_y": null,
            "overflow_x": null,
            "grid_auto_flow": null,
            "grid_area": null,
            "grid_template_columns": null,
            "flex": null,
            "_model_name": "LayoutModel",
            "justify_items": null,
            "grid_row": null,
            "max_height": null,
            "align_content": null,
            "visibility": null,
            "align_self": null,
            "height": null,
            "min_height": null,
            "padding": null,
            "grid_auto_rows": null,
            "grid_gap": null,
            "max_width": null,
            "order": null,
            "_view_module_version": "1.2.0",
            "grid_template_areas": null,
            "object_position": null,
            "object_fit": null,
            "grid_auto_columns": null,
            "margin": null,
            "display": null,
            "left": null
          }
        }
      }
    }
  },
  "cells": [
    {
      "cell_type": "markdown",
      "metadata": {
        "id": "view-in-github",
        "colab_type": "text"
      },
      "source": [
        "<a href=\"https://colab.research.google.com/github/LouiseDupuis/PlateformeCodePhenix/blob/master/Sentiment_Analysis_with_CamemBERT.ipynb\" target=\"_parent\"><img src=\"https://colab.research.google.com/assets/colab-badge.svg\" alt=\"Open In Colab\"/></a>"
      ]
    },
    {
      "cell_type": "markdown",
      "metadata": {
        "id": "MLoAJjhkB4K_",
        "colab_type": "text"
      },
      "source": [
        "# Loading Model"
      ]
    },
    {
      "cell_type": "code",
      "metadata": {
        "id": "P1xflQiMvTvz",
        "colab_type": "code",
        "colab": {
          "base_uri": "https://localhost:8080/",
          "height": 101
        },
        "outputId": "29f2724f-8016-4a54-bc64-80437fcc85c4"
      },
      "source": [
        "!pip install sentencepiece"
      ],
      "execution_count": 2,
      "outputs": [
        {
          "output_type": "stream",
          "text": [
            "Collecting sentencepiece\n",
            "\u001b[?25l  Downloading https://files.pythonhosted.org/packages/d4/a4/d0a884c4300004a78cca907a6ff9a5e9fe4f090f5d95ab341c53d28cbc58/sentencepiece-0.1.91-cp36-cp36m-manylinux1_x86_64.whl (1.1MB)\n",
            "\r\u001b[K     |▎                               | 10kB 21.3MB/s eta 0:00:01\r\u001b[K     |▋                               | 20kB 2.9MB/s eta 0:00:01\r\u001b[K     |█                               | 30kB 3.9MB/s eta 0:00:01\r\u001b[K     |█▏                              | 40kB 4.2MB/s eta 0:00:01\r\u001b[K     |█▌                              | 51kB 3.4MB/s eta 0:00:01\r\u001b[K     |█▉                              | 61kB 3.9MB/s eta 0:00:01\r\u001b[K     |██▏                             | 71kB 4.1MB/s eta 0:00:01\r\u001b[K     |██▍                             | 81kB 4.5MB/s eta 0:00:01\r\u001b[K     |██▊                             | 92kB 4.7MB/s eta 0:00:01\r\u001b[K     |███                             | 102kB 4.7MB/s eta 0:00:01\r\u001b[K     |███▍                            | 112kB 4.7MB/s eta 0:00:01\r\u001b[K     |███▋                            | 122kB 4.7MB/s eta 0:00:01\r\u001b[K     |████                            | 133kB 4.7MB/s eta 0:00:01\r\u001b[K     |████▎                           | 143kB 4.7MB/s eta 0:00:01\r\u001b[K     |████▋                           | 153kB 4.7MB/s eta 0:00:01\r\u001b[K     |████▉                           | 163kB 4.7MB/s eta 0:00:01\r\u001b[K     |█████▏                          | 174kB 4.7MB/s eta 0:00:01\r\u001b[K     |█████▌                          | 184kB 4.7MB/s eta 0:00:01\r\u001b[K     |█████▉                          | 194kB 4.7MB/s eta 0:00:01\r\u001b[K     |██████                          | 204kB 4.7MB/s eta 0:00:01\r\u001b[K     |██████▍                         | 215kB 4.7MB/s eta 0:00:01\r\u001b[K     |██████▊                         | 225kB 4.7MB/s eta 0:00:01\r\u001b[K     |███████                         | 235kB 4.7MB/s eta 0:00:01\r\u001b[K     |███████▎                        | 245kB 4.7MB/s eta 0:00:01\r\u001b[K     |███████▋                        | 256kB 4.7MB/s eta 0:00:01\r\u001b[K     |████████                        | 266kB 4.7MB/s eta 0:00:01\r\u001b[K     |████████▎                       | 276kB 4.7MB/s eta 0:00:01\r\u001b[K     |████████▌                       | 286kB 4.7MB/s eta 0:00:01\r\u001b[K     |████████▉                       | 296kB 4.7MB/s eta 0:00:01\r\u001b[K     |█████████▏                      | 307kB 4.7MB/s eta 0:00:01\r\u001b[K     |█████████▌                      | 317kB 4.7MB/s eta 0:00:01\r\u001b[K     |█████████▊                      | 327kB 4.7MB/s eta 0:00:01\r\u001b[K     |██████████                      | 337kB 4.7MB/s eta 0:00:01\r\u001b[K     |██████████▍                     | 348kB 4.7MB/s eta 0:00:01\r\u001b[K     |██████████▊                     | 358kB 4.7MB/s eta 0:00:01\r\u001b[K     |███████████                     | 368kB 4.7MB/s eta 0:00:01\r\u001b[K     |███████████▎                    | 378kB 4.7MB/s eta 0:00:01\r\u001b[K     |███████████▋                    | 389kB 4.7MB/s eta 0:00:01\r\u001b[K     |████████████                    | 399kB 4.7MB/s eta 0:00:01\r\u001b[K     |████████████▏                   | 409kB 4.7MB/s eta 0:00:01\r\u001b[K     |████████████▌                   | 419kB 4.7MB/s eta 0:00:01\r\u001b[K     |████████████▉                   | 430kB 4.7MB/s eta 0:00:01\r\u001b[K     |█████████████▏                  | 440kB 4.7MB/s eta 0:00:01\r\u001b[K     |█████████████▍                  | 450kB 4.7MB/s eta 0:00:01\r\u001b[K     |█████████████▊                  | 460kB 4.7MB/s eta 0:00:01\r\u001b[K     |██████████████                  | 471kB 4.7MB/s eta 0:00:01\r\u001b[K     |██████████████▍                 | 481kB 4.7MB/s eta 0:00:01\r\u001b[K     |██████████████▋                 | 491kB 4.7MB/s eta 0:00:01\r\u001b[K     |███████████████                 | 501kB 4.7MB/s eta 0:00:01\r\u001b[K     |███████████████▎                | 512kB 4.7MB/s eta 0:00:01\r\u001b[K     |███████████████▋                | 522kB 4.7MB/s eta 0:00:01\r\u001b[K     |███████████████▉                | 532kB 4.7MB/s eta 0:00:01\r\u001b[K     |████████████████▏               | 542kB 4.7MB/s eta 0:00:01\r\u001b[K     |████████████████▌               | 552kB 4.7MB/s eta 0:00:01\r\u001b[K     |████████████████▉               | 563kB 4.7MB/s eta 0:00:01\r\u001b[K     |█████████████████               | 573kB 4.7MB/s eta 0:00:01\r\u001b[K     |█████████████████▍              | 583kB 4.7MB/s eta 0:00:01\r\u001b[K     |█████████████████▊              | 593kB 4.7MB/s eta 0:00:01\r\u001b[K     |██████████████████              | 604kB 4.7MB/s eta 0:00:01\r\u001b[K     |██████████████████▎             | 614kB 4.7MB/s eta 0:00:01\r\u001b[K     |██████████████████▋             | 624kB 4.7MB/s eta 0:00:01\r\u001b[K     |███████████████████             | 634kB 4.7MB/s eta 0:00:01\r\u001b[K     |███████████████████▎            | 645kB 4.7MB/s eta 0:00:01\r\u001b[K     |███████████████████▌            | 655kB 4.7MB/s eta 0:00:01\r\u001b[K     |███████████████████▉            | 665kB 4.7MB/s eta 0:00:01\r\u001b[K     |████████████████████▏           | 675kB 4.7MB/s eta 0:00:01\r\u001b[K     |████████████████████▌           | 686kB 4.7MB/s eta 0:00:01\r\u001b[K     |████████████████████▊           | 696kB 4.7MB/s eta 0:00:01\r\u001b[K     |█████████████████████           | 706kB 4.7MB/s eta 0:00:01\r\u001b[K     |█████████████████████▍          | 716kB 4.7MB/s eta 0:00:01\r\u001b[K     |█████████████████████▋          | 727kB 4.7MB/s eta 0:00:01\r\u001b[K     |██████████████████████          | 737kB 4.7MB/s eta 0:00:01\r\u001b[K     |██████████████████████▎         | 747kB 4.7MB/s eta 0:00:01\r\u001b[K     |██████████████████████▋         | 757kB 4.7MB/s eta 0:00:01\r\u001b[K     |██████████████████████▉         | 768kB 4.7MB/s eta 0:00:01\r\u001b[K     |███████████████████████▏        | 778kB 4.7MB/s eta 0:00:01\r\u001b[K     |███████████████████████▌        | 788kB 4.7MB/s eta 0:00:01\r\u001b[K     |███████████████████████▉        | 798kB 4.7MB/s eta 0:00:01\r\u001b[K     |████████████████████████        | 808kB 4.7MB/s eta 0:00:01\r\u001b[K     |████████████████████████▍       | 819kB 4.7MB/s eta 0:00:01\r\u001b[K     |████████████████████████▊       | 829kB 4.7MB/s eta 0:00:01\r\u001b[K     |█████████████████████████       | 839kB 4.7MB/s eta 0:00:01\r\u001b[K     |█████████████████████████▎      | 849kB 4.7MB/s eta 0:00:01\r\u001b[K     |█████████████████████████▋      | 860kB 4.7MB/s eta 0:00:01\r\u001b[K     |██████████████████████████      | 870kB 4.7MB/s eta 0:00:01\r\u001b[K     |██████████████████████████▎     | 880kB 4.7MB/s eta 0:00:01\r\u001b[K     |██████████████████████████▌     | 890kB 4.7MB/s eta 0:00:01\r\u001b[K     |██████████████████████████▉     | 901kB 4.7MB/s eta 0:00:01\r\u001b[K     |███████████████████████████▏    | 911kB 4.7MB/s eta 0:00:01\r\u001b[K     |███████████████████████████▌    | 921kB 4.7MB/s eta 0:00:01\r\u001b[K     |███████████████████████████▊    | 931kB 4.7MB/s eta 0:00:01\r\u001b[K     |████████████████████████████    | 942kB 4.7MB/s eta 0:00:01\r\u001b[K     |████████████████████████████▍   | 952kB 4.7MB/s eta 0:00:01\r\u001b[K     |████████████████████████████▊   | 962kB 4.7MB/s eta 0:00:01\r\u001b[K     |█████████████████████████████   | 972kB 4.7MB/s eta 0:00:01\r\u001b[K     |█████████████████████████████▎  | 983kB 4.7MB/s eta 0:00:01\r\u001b[K     |█████████████████████████████▋  | 993kB 4.7MB/s eta 0:00:01\r\u001b[K     |██████████████████████████████  | 1.0MB 4.7MB/s eta 0:00:01\r\u001b[K     |██████████████████████████████▏ | 1.0MB 4.7MB/s eta 0:00:01\r\u001b[K     |██████████████████████████████▌ | 1.0MB 4.7MB/s eta 0:00:01\r\u001b[K     |██████████████████████████████▉ | 1.0MB 4.7MB/s eta 0:00:01\r\u001b[K     |███████████████████████████████▏| 1.0MB 4.7MB/s eta 0:00:01\r\u001b[K     |███████████████████████████████▍| 1.1MB 4.7MB/s eta 0:00:01\r\u001b[K     |███████████████████████████████▊| 1.1MB 4.7MB/s eta 0:00:01\r\u001b[K     |████████████████████████████████| 1.1MB 4.7MB/s \n",
            "\u001b[?25hInstalling collected packages: sentencepiece\n",
            "Successfully installed sentencepiece-0.1.91\n"
          ],
          "name": "stdout"
        }
      ]
    },
    {
      "cell_type": "code",
      "metadata": {
        "id": "bVpFpQSo1k2z",
        "colab_type": "code",
        "colab": {
          "base_uri": "https://localhost:8080/",
          "height": 554
        },
        "outputId": "09b13b14-927d-4425-add4-488fdea526b9"
      },
      "source": [
        "!pip install transformers"
      ],
      "execution_count": 3,
      "outputs": [
        {
          "output_type": "stream",
          "text": [
            "Collecting transformers\n",
            "\u001b[?25l  Downloading https://files.pythonhosted.org/packages/ae/05/c8c55b600308dc04e95100dc8ad8a244dd800fe75dfafcf1d6348c6f6209/transformers-3.1.0-py3-none-any.whl (884kB)\n",
            "\r\u001b[K     |▍                               | 10kB 20.2MB/s eta 0:00:01\r\u001b[K     |▊                               | 20kB 3.5MB/s eta 0:00:01\r\u001b[K     |█▏                              | 30kB 4.2MB/s eta 0:00:01\r\u001b[K     |█▌                              | 40kB 4.6MB/s eta 0:00:01\r\u001b[K     |█▉                              | 51kB 4.1MB/s eta 0:00:01\r\u001b[K     |██▎                             | 61kB 4.4MB/s eta 0:00:01\r\u001b[K     |██▋                             | 71kB 5.0MB/s eta 0:00:01\r\u001b[K     |███                             | 81kB 5.4MB/s eta 0:00:01\r\u001b[K     |███▍                            | 92kB 5.5MB/s eta 0:00:01\r\u001b[K     |███▊                            | 102kB 5.6MB/s eta 0:00:01\r\u001b[K     |████                            | 112kB 5.6MB/s eta 0:00:01\r\u001b[K     |████▌                           | 122kB 5.6MB/s eta 0:00:01\r\u001b[K     |████▉                           | 133kB 5.6MB/s eta 0:00:01\r\u001b[K     |█████▏                          | 143kB 5.6MB/s eta 0:00:01\r\u001b[K     |█████▋                          | 153kB 5.6MB/s eta 0:00:01\r\u001b[K     |██████                          | 163kB 5.6MB/s eta 0:00:01\r\u001b[K     |██████▎                         | 174kB 5.6MB/s eta 0:00:01\r\u001b[K     |██████▊                         | 184kB 5.6MB/s eta 0:00:01\r\u001b[K     |███████                         | 194kB 5.6MB/s eta 0:00:01\r\u001b[K     |███████▍                        | 204kB 5.6MB/s eta 0:00:01\r\u001b[K     |███████▉                        | 215kB 5.6MB/s eta 0:00:01\r\u001b[K     |████████▏                       | 225kB 5.6MB/s eta 0:00:01\r\u001b[K     |████████▌                       | 235kB 5.6MB/s eta 0:00:01\r\u001b[K     |█████████                       | 245kB 5.6MB/s eta 0:00:01\r\u001b[K     |█████████▎                      | 256kB 5.6MB/s eta 0:00:01\r\u001b[K     |█████████▋                      | 266kB 5.6MB/s eta 0:00:01\r\u001b[K     |██████████                      | 276kB 5.6MB/s eta 0:00:01\r\u001b[K     |██████████▍                     | 286kB 5.6MB/s eta 0:00:01\r\u001b[K     |██████████▊                     | 296kB 5.6MB/s eta 0:00:01\r\u001b[K     |███████████▏                    | 307kB 5.6MB/s eta 0:00:01\r\u001b[K     |███████████▌                    | 317kB 5.6MB/s eta 0:00:01\r\u001b[K     |███████████▉                    | 327kB 5.6MB/s eta 0:00:01\r\u001b[K     |████████████▎                   | 337kB 5.6MB/s eta 0:00:01\r\u001b[K     |████████████▋                   | 348kB 5.6MB/s eta 0:00:01\r\u001b[K     |█████████████                   | 358kB 5.6MB/s eta 0:00:01\r\u001b[K     |█████████████▍                  | 368kB 5.6MB/s eta 0:00:01\r\u001b[K     |█████████████▊                  | 378kB 5.6MB/s eta 0:00:01\r\u001b[K     |██████████████                  | 389kB 5.6MB/s eta 0:00:01\r\u001b[K     |██████████████▌                 | 399kB 5.6MB/s eta 0:00:01\r\u001b[K     |██████████████▉                 | 409kB 5.6MB/s eta 0:00:01\r\u001b[K     |███████████████▏                | 419kB 5.6MB/s eta 0:00:01\r\u001b[K     |███████████████▋                | 430kB 5.6MB/s eta 0:00:01\r\u001b[K     |████████████████                | 440kB 5.6MB/s eta 0:00:01\r\u001b[K     |████████████████▎               | 450kB 5.6MB/s eta 0:00:01\r\u001b[K     |████████████████▊               | 460kB 5.6MB/s eta 0:00:01\r\u001b[K     |█████████████████               | 471kB 5.6MB/s eta 0:00:01\r\u001b[K     |█████████████████▍              | 481kB 5.6MB/s eta 0:00:01\r\u001b[K     |█████████████████▉              | 491kB 5.6MB/s eta 0:00:01\r\u001b[K     |██████████████████▏             | 501kB 5.6MB/s eta 0:00:01\r\u001b[K     |██████████████████▌             | 512kB 5.6MB/s eta 0:00:01\r\u001b[K     |███████████████████             | 522kB 5.6MB/s eta 0:00:01\r\u001b[K     |███████████████████▎            | 532kB 5.6MB/s eta 0:00:01\r\u001b[K     |███████████████████▋            | 542kB 5.6MB/s eta 0:00:01\r\u001b[K     |████████████████████            | 552kB 5.6MB/s eta 0:00:01\r\u001b[K     |████████████████████▍           | 563kB 5.6MB/s eta 0:00:01\r\u001b[K     |████████████████████▊           | 573kB 5.6MB/s eta 0:00:01\r\u001b[K     |█████████████████████▏          | 583kB 5.6MB/s eta 0:00:01\r\u001b[K     |█████████████████████▌          | 593kB 5.6MB/s eta 0:00:01\r\u001b[K     |█████████████████████▉          | 604kB 5.6MB/s eta 0:00:01\r\u001b[K     |██████████████████████▎         | 614kB 5.6MB/s eta 0:00:01\r\u001b[K     |██████████████████████▋         | 624kB 5.6MB/s eta 0:00:01\r\u001b[K     |███████████████████████         | 634kB 5.6MB/s eta 0:00:01\r\u001b[K     |███████████████████████▍        | 645kB 5.6MB/s eta 0:00:01\r\u001b[K     |███████████████████████▊        | 655kB 5.6MB/s eta 0:00:01\r\u001b[K     |████████████████████████        | 665kB 5.6MB/s eta 0:00:01\r\u001b[K     |████████████████████████▌       | 675kB 5.6MB/s eta 0:00:01\r\u001b[K     |████████████████████████▉       | 686kB 5.6MB/s eta 0:00:01\r\u001b[K     |█████████████████████████▏      | 696kB 5.6MB/s eta 0:00:01\r\u001b[K     |█████████████████████████▋      | 706kB 5.6MB/s eta 0:00:01\r\u001b[K     |██████████████████████████      | 716kB 5.6MB/s eta 0:00:01\r\u001b[K     |██████████████████████████▎     | 727kB 5.6MB/s eta 0:00:01\r\u001b[K     |██████████████████████████▊     | 737kB 5.6MB/s eta 0:00:01\r\u001b[K     |███████████████████████████     | 747kB 5.6MB/s eta 0:00:01\r\u001b[K     |███████████████████████████▍    | 757kB 5.6MB/s eta 0:00:01\r\u001b[K     |███████████████████████████▉    | 768kB 5.6MB/s eta 0:00:01\r\u001b[K     |████████████████████████████▏   | 778kB 5.6MB/s eta 0:00:01\r\u001b[K     |████████████████████████████▌   | 788kB 5.6MB/s eta 0:00:01\r\u001b[K     |█████████████████████████████   | 798kB 5.6MB/s eta 0:00:01\r\u001b[K     |█████████████████████████████▎  | 808kB 5.6MB/s eta 0:00:01\r\u001b[K     |█████████████████████████████▋  | 819kB 5.6MB/s eta 0:00:01\r\u001b[K     |██████████████████████████████  | 829kB 5.6MB/s eta 0:00:01\r\u001b[K     |██████████████████████████████▍ | 839kB 5.6MB/s eta 0:00:01\r\u001b[K     |██████████████████████████████▊ | 849kB 5.6MB/s eta 0:00:01\r\u001b[K     |███████████████████████████████▏| 860kB 5.6MB/s eta 0:00:01\r\u001b[K     |███████████████████████████████▌| 870kB 5.6MB/s eta 0:00:01\r\u001b[K     |███████████████████████████████▉| 880kB 5.6MB/s eta 0:00:01\r\u001b[K     |████████████████████████████████| 890kB 5.6MB/s \n",
            "\u001b[?25hRequirement already satisfied: filelock in /usr/local/lib/python3.6/dist-packages (from transformers) (3.0.12)\n",
            "Collecting tokenizers==0.8.1.rc2\n",
            "\u001b[?25l  Downloading https://files.pythonhosted.org/packages/80/83/8b9fccb9e48eeb575ee19179e2bdde0ee9a1904f97de5f02d19016b8804f/tokenizers-0.8.1rc2-cp36-cp36m-manylinux1_x86_64.whl (3.0MB)\n",
            "\u001b[K     |████████████████████████████████| 3.0MB 33.8MB/s \n",
            "\u001b[?25hCollecting sacremoses\n",
            "\u001b[?25l  Downloading https://files.pythonhosted.org/packages/7d/34/09d19aff26edcc8eb2a01bed8e98f13a1537005d31e95233fd48216eed10/sacremoses-0.0.43.tar.gz (883kB)\n",
            "\u001b[K     |████████████████████████████████| 890kB 44.2MB/s \n",
            "\u001b[?25hRequirement already satisfied: dataclasses; python_version < \"3.7\" in /usr/local/lib/python3.6/dist-packages (from transformers) (0.7)\n",
            "Requirement already satisfied: requests in /usr/local/lib/python3.6/dist-packages (from transformers) (2.23.0)\n",
            "Requirement already satisfied: packaging in /usr/local/lib/python3.6/dist-packages (from transformers) (20.4)\n",
            "Requirement already satisfied: sentencepiece!=0.1.92 in /usr/local/lib/python3.6/dist-packages (from transformers) (0.1.91)\n",
            "Requirement already satisfied: numpy in /usr/local/lib/python3.6/dist-packages (from transformers) (1.18.5)\n",
            "Requirement already satisfied: regex!=2019.12.17 in /usr/local/lib/python3.6/dist-packages (from transformers) (2019.12.20)\n",
            "Requirement already satisfied: tqdm>=4.27 in /usr/local/lib/python3.6/dist-packages (from transformers) (4.41.1)\n",
            "Requirement already satisfied: six in /usr/local/lib/python3.6/dist-packages (from sacremoses->transformers) (1.15.0)\n",
            "Requirement already satisfied: click in /usr/local/lib/python3.6/dist-packages (from sacremoses->transformers) (7.1.2)\n",
            "Requirement already satisfied: joblib in /usr/local/lib/python3.6/dist-packages (from sacremoses->transformers) (0.16.0)\n",
            "Requirement already satisfied: idna<3,>=2.5 in /usr/local/lib/python3.6/dist-packages (from requests->transformers) (2.10)\n",
            "Requirement already satisfied: certifi>=2017.4.17 in /usr/local/lib/python3.6/dist-packages (from requests->transformers) (2020.6.20)\n",
            "Requirement already satisfied: chardet<4,>=3.0.2 in /usr/local/lib/python3.6/dist-packages (from requests->transformers) (3.0.4)\n",
            "Requirement already satisfied: urllib3!=1.25.0,!=1.25.1,<1.26,>=1.21.1 in /usr/local/lib/python3.6/dist-packages (from requests->transformers) (1.24.3)\n",
            "Requirement already satisfied: pyparsing>=2.0.2 in /usr/local/lib/python3.6/dist-packages (from packaging->transformers) (2.4.7)\n",
            "Building wheels for collected packages: sacremoses\n",
            "  Building wheel for sacremoses (setup.py) ... \u001b[?25l\u001b[?25hdone\n",
            "  Created wheel for sacremoses: filename=sacremoses-0.0.43-cp36-none-any.whl size=893257 sha256=891b8ea985c6ec9ef7d4dff4dabd9515d4839152df1fb2936bb39a44b8e69123\n",
            "  Stored in directory: /root/.cache/pip/wheels/29/3c/fd/7ce5c3f0666dab31a50123635e6fb5e19ceb42ce38d4e58f45\n",
            "Successfully built sacremoses\n",
            "Installing collected packages: tokenizers, sacremoses, transformers\n",
            "Successfully installed sacremoses-0.0.43 tokenizers-0.8.1rc2 transformers-3.1.0\n"
          ],
          "name": "stdout"
        }
      ]
    },
    {
      "cell_type": "code",
      "metadata": {
        "id": "jhWjW0hl0YFR",
        "colab_type": "code",
        "colab": {
          "base_uri": "https://localhost:8080/",
          "height": 218,
          "referenced_widgets": [
            "d76b483fc3824cf29dac3dbbaff2eba6",
            "a9f612be03894ceb806f11c23dcb3e27",
            "ff3ded86bd93458fb763a428a558fb9b",
            "2bd13720544845aa9372ee5a645a3c13",
            "b85a684ebd0a43efb7e29fe8a09890c0",
            "8cd9d0633a394a3186c873fba544cb7b",
            "68f3d862bc5d416a89d3195577e48113",
            "4598700905c54379a80c2cb302296648",
            "45f14eac244945c39f2c899400c86ee6",
            "45452ea750e04a6cbbe0988db4f3b1f8",
            "70b4549f27384e038d87e6baa52535d2",
            "cb7b0a5a5c6346ff95618ca7f28be43f",
            "8c005d347ed6478fa67654c69b500e4a",
            "007b5069d24c478bb0eab5235c53b363",
            "bcab3076b220491b8fbc4f01b1e13d5e",
            "49fd9feec0e8470dae4a0c11d2ac4381"
          ]
        },
        "outputId": "37d8ff4e-6312-4f1d-b182-da89870d681f"
      },
      "source": [
        "from transformers import CamembertConfig, CamembertTokenizer, CamembertForSequenceClassification\n",
        "\n",
        "# Initializing a configuration\n",
        "configuration = CamembertConfig()\n",
        "\n",
        "# Initializing a model from the configuration\n",
        "model = CamembertForSequenceClassification.from_pretrained('camembert-base')\n",
        "# Accessing the model configuration\n",
        "configuration = model.config \n",
        "\n",
        "\n",
        "\n"
      ],
      "execution_count": 4,
      "outputs": [
        {
          "output_type": "display_data",
          "data": {
            "application/vnd.jupyter.widget-view+json": {
              "model_id": "d76b483fc3824cf29dac3dbbaff2eba6",
              "version_minor": 0,
              "version_major": 2
            },
            "text/plain": [
              "HBox(children=(FloatProgress(value=0.0, description='Downloading', max=508.0, style=ProgressStyle(description_…"
            ]
          },
          "metadata": {
            "tags": []
          }
        },
        {
          "output_type": "stream",
          "text": [
            "\n"
          ],
          "name": "stdout"
        },
        {
          "output_type": "display_data",
          "data": {
            "application/vnd.jupyter.widget-view+json": {
              "model_id": "45f14eac244945c39f2c899400c86ee6",
              "version_minor": 0,
              "version_major": 2
            },
            "text/plain": [
              "HBox(children=(FloatProgress(value=0.0, description='Downloading', max=445032417.0, style=ProgressStyle(descri…"
            ]
          },
          "metadata": {
            "tags": []
          }
        },
        {
          "output_type": "stream",
          "text": [
            "\n"
          ],
          "name": "stdout"
        },
        {
          "output_type": "stream",
          "text": [
            "Some weights of the model checkpoint at camembert-base were not used when initializing CamembertForSequenceClassification: ['lm_head.bias', 'lm_head.dense.weight', 'lm_head.dense.bias', 'lm_head.layer_norm.weight', 'lm_head.layer_norm.bias', 'lm_head.decoder.weight']\n",
            "- This IS expected if you are initializing CamembertForSequenceClassification from the checkpoint of a model trained on another task or with another architecture (e.g. initializing a BertForSequenceClassification model from a BertForPretraining model).\n",
            "- This IS NOT expected if you are initializing CamembertForSequenceClassification from the checkpoint of a model that you expect to be exactly identical (initializing a BertForSequenceClassification model from a BertForSequenceClassification model).\n",
            "Some weights of CamembertForSequenceClassification were not initialized from the model checkpoint at camembert-base and are newly initialized: ['classifier.dense.weight', 'classifier.dense.bias', 'classifier.out_proj.weight', 'classifier.out_proj.bias']\n",
            "You should probably TRAIN this model on a down-stream task to be able to use it for predictions and inference.\n"
          ],
          "name": "stderr"
        }
      ]
    },
    {
      "cell_type": "markdown",
      "metadata": {
        "id": "P1LhvD35Br7P",
        "colab_type": "text"
      },
      "source": [
        "# Preprocessing Data"
      ]
    },
    {
      "cell_type": "markdown",
      "metadata": {
        "id": "crb_C5xwB1Hv",
        "colab_type": "text"
      },
      "source": [
        "BERT models need a special preprocessing of the data before input. Texts have to be tokenized, to be divided in separate sentences by special tokens and to be padded to a fixed length. "
      ]
    },
    {
      "cell_type": "code",
      "metadata": {
        "id": "IlkSFEcyEDPw",
        "colab_type": "code",
        "colab": {}
      },
      "source": [
        "\n",
        "sample_text = 'Ceci est un test.'\n",
        "\n",
        "tokenizer = CamembertTokenizer.from_pretrained('camembert-base')\n",
        "\n",
        "\n",
        "def encode_text(text_string):\n",
        "  tensor = tokenizer.encode_plus(\n",
        "  text_string,\n",
        "  add_special_tokens=True, # Add '[CLS]' and '[SEP]'\n",
        "  return_token_type_ids=False,\n",
        "  pad_to_max_length=True,\n",
        "  return_attention_mask=True,\n",
        "  padding = 'max_length',\n",
        "  return_tensors='pt',  # Return PyTorch tensors\n",
        "  )\n",
        "  return tensor \n",
        "\n"
      ],
      "execution_count": 14,
      "outputs": []
    },
    {
      "cell_type": "code",
      "metadata": {
        "id": "H57tfVNHEqdp",
        "colab_type": "code",
        "colab": {
          "base_uri": "https://localhost:8080/",
          "height": 1000
        },
        "outputId": "33bee66e-1bf2-44eb-fa42-b23ccbc85b0d"
      },
      "source": [
        "print(encode_text(sample_text))"
      ],
      "execution_count": 15,
      "outputs": [
        {
          "output_type": "stream",
          "text": [
            "{'input_ids': tensor([[   5, 2978,   30,   23, 2006,    9,    6,    1,    1,    1,    1,    1,\n",
            "            1,    1,    1,    1,    1,    1,    1,    1,    1,    1,    1,    1,\n",
            "            1,    1,    1,    1,    1,    1,    1,    1,    1,    1,    1,    1,\n",
            "            1,    1,    1,    1,    1,    1,    1,    1,    1,    1,    1,    1,\n",
            "            1,    1,    1,    1,    1,    1,    1,    1,    1,    1,    1,    1,\n",
            "            1,    1,    1,    1,    1,    1,    1,    1,    1,    1,    1,    1,\n",
            "            1,    1,    1,    1,    1,    1,    1,    1,    1,    1,    1,    1,\n",
            "            1,    1,    1,    1,    1,    1,    1,    1,    1,    1,    1,    1,\n",
            "            1,    1,    1,    1,    1,    1,    1,    1,    1,    1,    1,    1,\n",
            "            1,    1,    1,    1,    1,    1,    1,    1,    1,    1,    1,    1,\n",
            "            1,    1,    1,    1,    1,    1,    1,    1,    1,    1,    1,    1,\n",
            "            1,    1,    1,    1,    1,    1,    1,    1,    1,    1,    1,    1,\n",
            "            1,    1,    1,    1,    1,    1,    1,    1,    1,    1,    1,    1,\n",
            "            1,    1,    1,    1,    1,    1,    1,    1,    1,    1,    1,    1,\n",
            "            1,    1,    1,    1,    1,    1,    1,    1,    1,    1,    1,    1,\n",
            "            1,    1,    1,    1,    1,    1,    1,    1,    1,    1,    1,    1,\n",
            "            1,    1,    1,    1,    1,    1,    1,    1,    1,    1,    1,    1,\n",
            "            1,    1,    1,    1,    1,    1,    1,    1,    1,    1,    1,    1,\n",
            "            1,    1,    1,    1,    1,    1,    1,    1,    1,    1,    1,    1,\n",
            "            1,    1,    1,    1,    1,    1,    1,    1,    1,    1,    1,    1,\n",
            "            1,    1,    1,    1,    1,    1,    1,    1,    1,    1,    1,    1,\n",
            "            1,    1,    1,    1,    1,    1,    1,    1,    1,    1,    1,    1,\n",
            "            1,    1,    1,    1,    1,    1,    1,    1,    1,    1,    1,    1,\n",
            "            1,    1,    1,    1,    1,    1,    1,    1,    1,    1,    1,    1,\n",
            "            1,    1,    1,    1,    1,    1,    1,    1,    1,    1,    1,    1,\n",
            "            1,    1,    1,    1,    1,    1,    1,    1,    1,    1,    1,    1,\n",
            "            1,    1,    1,    1,    1,    1,    1,    1,    1,    1,    1,    1,\n",
            "            1,    1,    1,    1,    1,    1,    1,    1,    1,    1,    1,    1,\n",
            "            1,    1,    1,    1,    1,    1,    1,    1,    1,    1,    1,    1,\n",
            "            1,    1,    1,    1,    1,    1,    1,    1,    1,    1,    1,    1,\n",
            "            1,    1,    1,    1,    1,    1,    1,    1,    1,    1,    1,    1,\n",
            "            1,    1,    1,    1,    1,    1,    1,    1,    1,    1,    1,    1,\n",
            "            1,    1,    1,    1,    1,    1,    1,    1,    1,    1,    1,    1,\n",
            "            1,    1,    1,    1,    1,    1,    1,    1,    1,    1,    1,    1,\n",
            "            1,    1,    1,    1,    1,    1,    1,    1,    1,    1,    1,    1,\n",
            "            1,    1,    1,    1,    1,    1,    1,    1,    1,    1,    1,    1,\n",
            "            1,    1,    1,    1,    1,    1,    1,    1,    1,    1,    1,    1,\n",
            "            1,    1,    1,    1,    1,    1,    1,    1,    1,    1,    1,    1,\n",
            "            1,    1,    1,    1,    1,    1,    1,    1,    1,    1,    1,    1,\n",
            "            1,    1,    1,    1,    1,    1,    1,    1,    1,    1,    1,    1,\n",
            "            1,    1,    1,    1,    1,    1,    1,    1,    1,    1,    1,    1,\n",
            "            1,    1,    1,    1,    1,    1,    1,    1,    1,    1,    1,    1,\n",
            "            1,    1,    1,    1,    1,    1,    1,    1]]), 'attention_mask': tensor([[1, 1, 1, 1, 1, 1, 1, 0, 0, 0, 0, 0, 0, 0, 0, 0, 0, 0, 0, 0, 0, 0, 0, 0,\n",
            "         0, 0, 0, 0, 0, 0, 0, 0, 0, 0, 0, 0, 0, 0, 0, 0, 0, 0, 0, 0, 0, 0, 0, 0,\n",
            "         0, 0, 0, 0, 0, 0, 0, 0, 0, 0, 0, 0, 0, 0, 0, 0, 0, 0, 0, 0, 0, 0, 0, 0,\n",
            "         0, 0, 0, 0, 0, 0, 0, 0, 0, 0, 0, 0, 0, 0, 0, 0, 0, 0, 0, 0, 0, 0, 0, 0,\n",
            "         0, 0, 0, 0, 0, 0, 0, 0, 0, 0, 0, 0, 0, 0, 0, 0, 0, 0, 0, 0, 0, 0, 0, 0,\n",
            "         0, 0, 0, 0, 0, 0, 0, 0, 0, 0, 0, 0, 0, 0, 0, 0, 0, 0, 0, 0, 0, 0, 0, 0,\n",
            "         0, 0, 0, 0, 0, 0, 0, 0, 0, 0, 0, 0, 0, 0, 0, 0, 0, 0, 0, 0, 0, 0, 0, 0,\n",
            "         0, 0, 0, 0, 0, 0, 0, 0, 0, 0, 0, 0, 0, 0, 0, 0, 0, 0, 0, 0, 0, 0, 0, 0,\n",
            "         0, 0, 0, 0, 0, 0, 0, 0, 0, 0, 0, 0, 0, 0, 0, 0, 0, 0, 0, 0, 0, 0, 0, 0,\n",
            "         0, 0, 0, 0, 0, 0, 0, 0, 0, 0, 0, 0, 0, 0, 0, 0, 0, 0, 0, 0, 0, 0, 0, 0,\n",
            "         0, 0, 0, 0, 0, 0, 0, 0, 0, 0, 0, 0, 0, 0, 0, 0, 0, 0, 0, 0, 0, 0, 0, 0,\n",
            "         0, 0, 0, 0, 0, 0, 0, 0, 0, 0, 0, 0, 0, 0, 0, 0, 0, 0, 0, 0, 0, 0, 0, 0,\n",
            "         0, 0, 0, 0, 0, 0, 0, 0, 0, 0, 0, 0, 0, 0, 0, 0, 0, 0, 0, 0, 0, 0, 0, 0,\n",
            "         0, 0, 0, 0, 0, 0, 0, 0, 0, 0, 0, 0, 0, 0, 0, 0, 0, 0, 0, 0, 0, 0, 0, 0,\n",
            "         0, 0, 0, 0, 0, 0, 0, 0, 0, 0, 0, 0, 0, 0, 0, 0, 0, 0, 0, 0, 0, 0, 0, 0,\n",
            "         0, 0, 0, 0, 0, 0, 0, 0, 0, 0, 0, 0, 0, 0, 0, 0, 0, 0, 0, 0, 0, 0, 0, 0,\n",
            "         0, 0, 0, 0, 0, 0, 0, 0, 0, 0, 0, 0, 0, 0, 0, 0, 0, 0, 0, 0, 0, 0, 0, 0,\n",
            "         0, 0, 0, 0, 0, 0, 0, 0, 0, 0, 0, 0, 0, 0, 0, 0, 0, 0, 0, 0, 0, 0, 0, 0,\n",
            "         0, 0, 0, 0, 0, 0, 0, 0, 0, 0, 0, 0, 0, 0, 0, 0, 0, 0, 0, 0, 0, 0, 0, 0,\n",
            "         0, 0, 0, 0, 0, 0, 0, 0, 0, 0, 0, 0, 0, 0, 0, 0, 0, 0, 0, 0, 0, 0, 0, 0,\n",
            "         0, 0, 0, 0, 0, 0, 0, 0, 0, 0, 0, 0, 0, 0, 0, 0, 0, 0, 0, 0, 0, 0, 0, 0,\n",
            "         0, 0, 0, 0, 0, 0, 0, 0]])}\n"
          ],
          "name": "stdout"
        }
      ]
    },
    {
      "cell_type": "markdown",
      "metadata": {
        "id": "_FrmONCUG6a7",
        "colab_type": "text"
      },
      "source": [
        "Creating a Pytorch Dataset, or save directly the preprocessed inputs as csv ?  "
      ]
    },
    {
      "cell_type": "code",
      "metadata": {
        "id": "SkmU-sdkGvUp",
        "colab_type": "code",
        "colab": {}
      },
      "source": [
        ""
      ],
      "execution_count": null,
      "outputs": []
    },
    {
      "cell_type": "markdown",
      "metadata": {
        "id": "CMCI7WF9MveJ",
        "colab_type": "text"
      },
      "source": [
        "# Training the Model"
      ]
    },
    {
      "cell_type": "markdown",
      "metadata": {
        "id": "B7Js8EkuNBFd",
        "colab_type": "text"
      },
      "source": [
        "The classifiers are already part of this model, but we could build our own on top of the basic CamemBERT model. \n",
        "\n",
        "From the CamemBERT original paper : \n",
        "\n",
        "We fine-tune independently CamemBERT for each task and each dataset. We optimise the model using the Adam optimiser [38] with a fixed learning rate. We run a grid search on a combination of learning rates and batch sizes. We select the best model on the validation set out of the 30 first epochs.\n",
        "\n",
        "Although this might push the performances even further, for all tasks except NLI, we don’t apply any regularisation techniques such as weight decay, learning rate warm-up or discriminative fine-tuning. We show that fine-tuning CamemBERT in a straight-forward manner leads to state-of-the-art results on most tasks and outperforms the existing BERT-based models in most cases."
      ]
    },
    {
      "cell_type": "code",
      "metadata": {
        "id": "j3R4JNzGMz6k",
        "colab_type": "code",
        "colab": {}
      },
      "source": [
        "# moving the model to GPU \n",
        "\n",
        "model = model.to(device)\n",
        "\n",
        "\n",
        "# hyperparameters \n",
        "\n",
        "EPOCHS = 10\n",
        "optimizer = AdamW(model.parameters(), lr=2e-5, correct_bias=False)\n",
        "total_steps = len(train_data_loader) * EPOCHS\n",
        "scheduler = get_linear_schedule_with_warmup(\n",
        "  optimizer,\n",
        "  num_warmup_steps=0,\n",
        "  num_training_steps=total_steps\n",
        ")\n",
        "\n",
        "\n",
        "\n",
        "\n",
        "\n",
        "loss_fn = nn.CrossEntropyLoss().to(device)\n",
        "\n"
      ],
      "execution_count": null,
      "outputs": []
    }
  ]
}